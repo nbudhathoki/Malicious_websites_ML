{
 "cells": [
  {
   "cell_type": "markdown",
   "metadata": {},
   "source": [
    "### LOADING ALL LIBRARIES"
   ]
  },
  {
   "cell_type": "code",
   "execution_count": 7,
   "metadata": {},
   "outputs": [
    {
     "name": "stderr",
     "output_type": "stream",
     "text": [
      "/Users/nirmal/anaconda3/lib/python3.6/site-packages/h5py/__init__.py:36: FutureWarning: Conversion of the second argument of issubdtype from `float` to `np.floating` is deprecated. In future, it will be treated as `np.float64 == np.dtype(float).type`.\n",
      "  from ._conv import register_converters as _register_converters\n",
      "Using TensorFlow backend.\n"
     ]
    }
   ],
   "source": [
    "# Load Libraries - Make sure to run this cell!\n",
    "import pandas as pd\n",
    "import numpy as np\n",
    "import re, os\n",
    "from string import printable\n",
    "from sklearn import model_selection\n",
    "\n",
    "#import gensim\n",
    "import tensorflow as tf\n",
    "from keras.models import Sequential, Model, model_from_json, load_model\n",
    "from keras import regularizers\n",
    "from keras.layers.core import Dense, Dropout, Activation, Lambda, Flatten\n",
    "from keras.layers import Input, ELU, LSTM, Embedding, Convolution2D, MaxPooling2D, \\\n",
    "BatchNormalization, Convolution1D, MaxPooling1D, concatenate\n",
    "from keras.preprocessing import sequence\n",
    "from keras.optimizers import SGD, Adam, RMSprop\n",
    "from keras.utils import np_utils\n",
    "from keras import backend as K\n",
    "\n",
    "from pathlib import Path\n",
    "import json\n",
    "\n",
    "import warnings\n",
    "warnings.filterwarnings(\"ignore\")\n"
   ]
  },
  {
   "cell_type": "markdown",
   "metadata": {},
   "source": [
    "### LOADING DATA"
   ]
  },
  {
   "cell_type": "code",
   "execution_count": 6,
   "metadata": {
    "scrolled": true
   },
   "outputs": [
    {
     "data": {
      "text/html": [
       "<div>\n",
       "<style scoped>\n",
       "    .dataframe tbody tr th:only-of-type {\n",
       "        vertical-align: middle;\n",
       "    }\n",
       "\n",
       "    .dataframe tbody tr th {\n",
       "        vertical-align: top;\n",
       "    }\n",
       "\n",
       "    .dataframe thead th {\n",
       "        text-align: right;\n",
       "    }\n",
       "</style>\n",
       "<table border=\"1\" class=\"dataframe\">\n",
       "  <thead>\n",
       "    <tr style=\"text-align: right;\">\n",
       "      <th></th>\n",
       "      <th>url</th>\n",
       "      <th>isMalicious</th>\n",
       "    </tr>\n",
       "  </thead>\n",
       "  <tbody>\n",
       "    <tr>\n",
       "      <th>32528</th>\n",
       "      <td>dsm.com/corporate/science/bright-science-award...</td>\n",
       "      <td>0</td>\n",
       "    </tr>\n",
       "    <tr>\n",
       "      <th>155808</th>\n",
       "      <td>cba.pl/lean</td>\n",
       "      <td>1</td>\n",
       "    </tr>\n",
       "    <tr>\n",
       "      <th>62150</th>\n",
       "      <td>taz.de/Wahrheit/!p4644</td>\n",
       "      <td>0</td>\n",
       "    </tr>\n",
       "    <tr>\n",
       "      <th>98007</th>\n",
       "      <td>oh081zmdg.top/index.php?xH2AcreVKBzPCIA=l3SMfP...</td>\n",
       "      <td>1</td>\n",
       "    </tr>\n",
       "    <tr>\n",
       "      <th>183214</th>\n",
       "      <td>cloudfile1012.com</td>\n",
       "      <td>1</td>\n",
       "    </tr>\n",
       "    <tr>\n",
       "      <th>72014</th>\n",
       "      <td>letao.com//static/ff80808157ffc1c2015800534d4c...</td>\n",
       "      <td>0</td>\n",
       "    </tr>\n",
       "    <tr>\n",
       "      <th>125066</th>\n",
       "      <td>afrodome.com/sites/default/files/js/login/cob/...</td>\n",
       "      <td>1</td>\n",
       "    </tr>\n",
       "    <tr>\n",
       "      <th>67367</th>\n",
       "      <td>aoyou.com/hd/weiyvxing</td>\n",
       "      <td>0</td>\n",
       "    </tr>\n",
       "    <tr>\n",
       "      <th>123609</th>\n",
       "      <td>acclot.co.za/part/portfolio_zip_0/dropbox</td>\n",
       "      <td>1</td>\n",
       "    </tr>\n",
       "    <tr>\n",
       "      <th>186396</th>\n",
       "      <td>homespottersf.com/sm/googledocs1/index.html</td>\n",
       "      <td>1</td>\n",
       "    </tr>\n",
       "    <tr>\n",
       "      <th>86924</th>\n",
       "      <td>aoshu.com/e/20170221/58ac002fa0bc7.shtml</td>\n",
       "      <td>0</td>\n",
       "    </tr>\n",
       "    <tr>\n",
       "      <th>64643</th>\n",
       "      <td>theregister.co.uk/about/company/contact</td>\n",
       "      <td>0</td>\n",
       "    </tr>\n",
       "    <tr>\n",
       "      <th>68958</th>\n",
       "      <td>clickatlife.gr/citylife/story/95823/ta-magazia...</td>\n",
       "      <td>0</td>\n",
       "    </tr>\n",
       "    <tr>\n",
       "      <th>97901</th>\n",
       "      <td>95.130.15.34</td>\n",
       "      <td>1</td>\n",
       "    </tr>\n",
       "    <tr>\n",
       "      <th>128889</th>\n",
       "      <td>aspconcrete.com.au/om/cham/i/g/connect_i.php</td>\n",
       "      <td>1</td>\n",
       "    </tr>\n",
       "    <tr>\n",
       "      <th>92138</th>\n",
       "      <td>hbrc.com.cn/Jobs/content/id/888052/code/5405.html</td>\n",
       "      <td>0</td>\n",
       "    </tr>\n",
       "    <tr>\n",
       "      <th>79249</th>\n",
       "      <td>caijing.com.cn/20170320/4249276.shtml</td>\n",
       "      <td>0</td>\n",
       "    </tr>\n",
       "    <tr>\n",
       "      <th>129782</th>\n",
       "      <td>lovemura.net/data/cheditor4/1010/site/bookmark...</td>\n",
       "      <td>1</td>\n",
       "    </tr>\n",
       "    <tr>\n",
       "      <th>153903</th>\n",
       "      <td>arucomelectronics.com/0rG5DCWi/01ak79tRx.php</td>\n",
       "      <td>1</td>\n",
       "    </tr>\n",
       "    <tr>\n",
       "      <th>14772</th>\n",
       "      <td>brooklynoutfitters.com</td>\n",
       "      <td>0</td>\n",
       "    </tr>\n",
       "    <tr>\n",
       "      <th>43391</th>\n",
       "      <td>comlaw.gov.au/content/WhatIsIt#sr</td>\n",
       "      <td>0</td>\n",
       "    </tr>\n",
       "    <tr>\n",
       "      <th>156322</th>\n",
       "      <td>nuess.fr/china.php</td>\n",
       "      <td>1</td>\n",
       "    </tr>\n",
       "    <tr>\n",
       "      <th>51427</th>\n",
       "      <td>esciencenews.com/articles/2016/09/13/westerly....</td>\n",
       "      <td>0</td>\n",
       "    </tr>\n",
       "    <tr>\n",
       "      <th>79226</th>\n",
       "      <td>urbanoutfitters.com/urban/catalog/category.jsp...</td>\n",
       "      <td>0</td>\n",
       "    </tr>\n",
       "    <tr>\n",
       "      <th>66678</th>\n",
       "      <td>sweetwater.com/shop/drums-percussion/drum-acce...</td>\n",
       "      <td>0</td>\n",
       "    </tr>\n",
       "  </tbody>\n",
       "</table>\n",
       "</div>"
      ],
      "text/plain": [
       "                                                      url  isMalicious\n",
       "32528   dsm.com/corporate/science/bright-science-award...            0\n",
       "155808                                        cba.pl/lean            1\n",
       "62150                              taz.de/Wahrheit/!p4644            0\n",
       "98007   oh081zmdg.top/index.php?xH2AcreVKBzPCIA=l3SMfP...            1\n",
       "183214                                  cloudfile1012.com            1\n",
       "72014   letao.com//static/ff80808157ffc1c2015800534d4c...            0\n",
       "125066  afrodome.com/sites/default/files/js/login/cob/...            1\n",
       "67367                              aoyou.com/hd/weiyvxing            0\n",
       "123609          acclot.co.za/part/portfolio_zip_0/dropbox            1\n",
       "186396        homespottersf.com/sm/googledocs1/index.html            1\n",
       "86924            aoshu.com/e/20170221/58ac002fa0bc7.shtml            0\n",
       "64643             theregister.co.uk/about/company/contact            0\n",
       "68958   clickatlife.gr/citylife/story/95823/ta-magazia...            0\n",
       "97901                                        95.130.15.34            1\n",
       "128889       aspconcrete.com.au/om/cham/i/g/connect_i.php            1\n",
       "92138   hbrc.com.cn/Jobs/content/id/888052/code/5405.html            0\n",
       "79249               caijing.com.cn/20170320/4249276.shtml            0\n",
       "129782  lovemura.net/data/cheditor4/1010/site/bookmark...            1\n",
       "153903       arucomelectronics.com/0rG5DCWi/01ak79tRx.php            1\n",
       "14772                              brooklynoutfitters.com            0\n",
       "43391                   comlaw.gov.au/content/WhatIsIt#sr            0\n",
       "156322                                 nuess.fr/china.php            1\n",
       "51427   esciencenews.com/articles/2016/09/13/westerly....            0\n",
       "79226   urbanoutfitters.com/urban/catalog/category.jsp...            0\n",
       "66678   sweetwater.com/shop/drums-percussion/drum-acce...            0"
      ]
     },
     "execution_count": 6,
     "metadata": {},
     "output_type": "execute_result"
    }
   ],
   "source": [
    "## Load data \n",
    "rel_path = 'Data/'\n",
    "df = pd.read_csv(rel_path + 'url_data_mega_deep_learning.csv')\n",
    "df.sample(n=25).head(25)"
   ]
  },
  {
   "cell_type": "markdown",
   "metadata": {},
   "source": [
    "### DATA PREPROCESSING"
   ]
  },
  {
   "cell_type": "code",
   "execution_count": 8,
   "metadata": {},
   "outputs": [
    {
     "name": "stdout",
     "output_type": "stream",
     "text": [
      "Matrix dimensions of X:  (194798, 75) Vector dimension of target:  (194798,)\n"
     ]
    }
   ],
   "source": [
    "# Initial Data Preparation URL\n",
    "\n",
    "# Step 1: Convert raw URL string in list of lists where characters that are contained in \"printable\" are stored encoded as integer \n",
    "url_int_tokens = [[printable.index(x) + 1 for x in url if x in printable] for url in df.url]\n",
    "\n",
    "# Step 2: Cut URL string at max_len or pad with zeros if shorter\n",
    "max_len=75\n",
    "X = sequence.pad_sequences(url_int_tokens, maxlen=max_len)\n",
    " \n",
    "# Step 3: Extract labels form df to numpy array\n",
    "target = np.array(df.isMalicious)\n",
    "\n",
    "print('Matrix dimensions of X: ', X.shape, 'Vector dimension of target: ', target.shape)"
   ]
  },
  {
   "cell_type": "code",
   "execution_count": 9,
   "metadata": {
    "collapsed": true
   },
   "outputs": [],
   "source": [
    "#Split the data set into training and test data, 70-30\n",
    "X_train, X_test, target_train, target_test = model_selection.train_test_split(X, target, test_size=0.30, random_state=42)"
   ]
  },
  {
   "cell_type": "code",
   "execution_count": 10,
   "metadata": {
    "collapsed": true
   },
   "outputs": [],
   "source": [
    "# GENERAL get layer dimensions for any model!\n",
    "def print_layers_dims(model):\n",
    "    l_layers = model.layers\n",
    "    # Note None is ALWAYS batch_size\n",
    "    for i in range(len(l_layers)):\n",
    "        print(l_layers[i])\n",
    "        print('Input Shape: ', l_layers[i].input_shape, 'Output Shape: ', l_layers[i].output_shape)\n",
    "\n",
    "# GENERAL save model to disk function!\n",
    "def save_model(fileModelJSON,fileWeights):\n",
    "    #print(\"Saving model to disk: \",fileModelJSON,\"and\",fileWeights)\n",
    "    #have h5py installed\n",
    "    if Path(fileModelJSON).is_file():\n",
    "        os.remove(fileModelJSON)\n",
    "    json_string = model.to_json()\n",
    "    with open(fileModelJSON,'w' ) as f:\n",
    "        json.dump(json_string, f)\n",
    "    if Path(fileWeights).is_file():\n",
    "        os.remove(fileWeights)\n",
    "    model.save_weights(fileWeights)\n",
    "    \n",
    "\n",
    "# GENERAL load model from disk function!\n",
    "def load_model(fileModelJSON,fileWeights):\n",
    "    #print(\"Saving model to disk: \",fileModelJSON,\"and\",fileWeights)\n",
    "    with open(fileModelJSON, 'r') as f:\n",
    "         model_json = json.load(f)\n",
    "         model = model_from_json(model_json)\n",
    "    \n",
    "    model.load_weights(fileWeights)\n",
    "    return model"
   ]
  },
  {
   "cell_type": "markdown",
   "metadata": {},
   "source": [
    "### MODEL 1: LSTM "
   ]
  },
  {
   "cell_type": "code",
   "execution_count": 11,
   "metadata": {
    "collapsed": true
   },
   "outputs": [],
   "source": [
    "def simple_lstm(max_len=75, emb_dim=32, max_vocab_len=100, lstm_output_size=32, W_reg=regularizers.l2(1e-4)):\n",
    "    # Input Layer\n",
    "    main_input = Input(shape=(max_len,), dtype='int32', name='main_input')\n",
    "    \n",
    "    # Embedding layer\n",
    "    emb = Embedding(input_dim=max_vocab_len, output_dim=emb_dim, input_length=max_len,\n",
    "                dropout=0.2, W_regularizer=W_reg)(main_input) \n",
    "\n",
    "    # LSTM layer\n",
    "    lstm = LSTM(lstm_output_size)(emb)\n",
    "    lstm = Dropout(0.5)(lstm)\n",
    "    \n",
    "    # Output layer (last fully connected layer)\n",
    "    output = Dense(1, activation='sigmoid', name='output')(lstm)\n",
    "\n",
    "    # Compile model and define optimizer\n",
    "    model = Model(input=[main_input], output=[output])\n",
    "    adam = Adam(lr=1e-4, beta_1=0.9, beta_2=0.999, epsilon=1e-08, decay=0.0)\n",
    "    model.compile(optimizer=adam, loss='binary_crossentropy', metrics=['accuracy'])\n",
    "    return model"
   ]
  },
  {
   "cell_type": "code",
   "execution_count": 12,
   "metadata": {},
   "outputs": [
    {
     "name": "stdout",
     "output_type": "stream",
     "text": [
      "Epoch 1/5\n",
      "136358/136358 [==============================] - 246s 2ms/step - loss: 0.4757 - acc: 0.7811\n",
      "Epoch 2/5\n",
      "136358/136358 [==============================] - 245s 2ms/step - loss: 0.4080 - acc: 0.8238\n",
      "Epoch 3/5\n",
      "136358/136358 [==============================] - 1005s 7ms/step - loss: 0.3957 - acc: 0.8292\n",
      "Epoch 4/5\n",
      "136358/136358 [==============================] - 248s 2ms/step - loss: 0.3868 - acc: 0.8342\n",
      "Epoch 5/5\n",
      "136358/136358 [==============================] - 246s 2ms/step - loss: 0.3741 - acc: 0.8400\n",
      "58440/58440 [==============================] - 17s 284us/step\n",
      "\n",
      "Final Cross-Validation Accuracy 0.8461156741957563 \n",
      "\n",
      "<keras.engine.topology.InputLayer object at 0x127c266d8>\n",
      "Input Shape:  (None, 75) Output Shape:  (None, 75)\n",
      "<keras.layers.embeddings.Embedding object at 0x127a781d0>\n",
      "Input Shape:  (None, 75) Output Shape:  (None, 75, 32)\n",
      "<keras.layers.recurrent.LSTM object at 0x127c26cc0>\n",
      "Input Shape:  (None, 75, 32) Output Shape:  (None, 32)\n",
      "<keras.layers.core.Dropout object at 0x11062ae10>\n",
      "Input Shape:  (None, 32) Output Shape:  (None, 32)\n",
      "<keras.layers.core.Dense object at 0x14186be80>\n",
      "Input Shape:  (None, 32) Output Shape:  (None, 1)\n"
     ]
    }
   ],
   "source": [
    "# Fit model and Cross-Validation, Model 1 SIMPLE LSTM\n",
    "epochs = 5\n",
    "batch_size = 32\n",
    "\n",
    "model = simple_lstm()\n",
    "model.fit(X_train, target_train, epochs=epochs, batch_size=batch_size)\n",
    "loss, accuracy = model.evaluate(X_test, target_test, verbose=1)\n",
    "\n",
    "print('\\nFinal Cross-Validation Accuracy', accuracy, '\\n')\n",
    "print_layers_dims(model)"
   ]
  },
  {
   "cell_type": "code",
   "execution_count": 13,
   "metadata": {
    "collapsed": true
   },
   "outputs": [],
   "source": [
    "# SAVING MODEL AS h5\n",
    "model_name = \"deeplearning_LSTM\"\n",
    "rel_path= 'Models/'\n",
    "save_model(rel_path + model_name + \".json\", rel_path + model_name + \".h5\")\n",
    "model = load_model(rel_path + model_name + \".json\", rel_path + model_name + \".h5\")"
   ]
  },
  {
   "cell_type": "markdown",
   "metadata": {},
   "source": [
    "### MODEL 2: 1D CONVOLUTION and LSTM"
   ]
  },
  {
   "cell_type": "code",
   "execution_count": 15,
   "metadata": {
    "collapsed": true
   },
   "outputs": [],
   "source": [
    "def lstm_conv(max_len=75, emb_dim=32, max_vocab_len=100, lstm_output_size=32, W_reg=regularizers.l2(1e-4)):\n",
    "    \n",
    "    # Input Layer\n",
    "    main_input = Input(shape=(max_len,), dtype='int32', name='main_input')\n",
    "    \n",
    "    # Embedding layer\n",
    "    emb = Embedding(input_dim=max_vocab_len, output_dim=emb_dim, input_length=max_len,\n",
    "                W_regularizer=W_reg)(main_input) \n",
    "    emb = Dropout(0.25)(emb)\n",
    "\n",
    "    # Conv layer\n",
    "    conv = Convolution1D(kernel_size=5, filters=256, \\\n",
    "                     border_mode='same')(emb)\n",
    "    conv = ELU()(conv)\n",
    "\n",
    "    conv = MaxPooling1D(pool_size=4)(conv)\n",
    "    conv = Dropout(0.5)(conv)\n",
    "\n",
    "    # LSTM layer\n",
    "    lstm = LSTM(lstm_output_size)(conv)\n",
    "    lstm = Dropout(0.5)(lstm)\n",
    "    \n",
    "    # Output layer (last fully connected layer)\n",
    "    output = Dense(1, activation='sigmoid', name='output')(lstm)\n",
    "\n",
    "    # Compile model and define optimizer\n",
    "    model = Model(input=[main_input], output=[output])\n",
    "    adam = Adam(lr=1e-4, beta_1=0.9, beta_2=0.999, epsilon=1e-08, decay=0.0)\n",
    "    model.compile(optimizer=adam, loss='binary_crossentropy', metrics=['accuracy'])\n",
    "    return model"
   ]
  },
  {
   "cell_type": "code",
   "execution_count": 16,
   "metadata": {},
   "outputs": [
    {
     "name": "stdout",
     "output_type": "stream",
     "text": [
      "Epoch 1/5\n",
      "136358/136358 [==============================] - 124s 906us/step - loss: 0.4574 - acc: 0.7806\n",
      "Epoch 2/5\n",
      "136358/136358 [==============================] - 124s 912us/step - loss: 0.3526 - acc: 0.8501\n",
      "Epoch 3/5\n",
      "136358/136358 [==============================] - 140s 1ms/step - loss: 0.3194 - acc: 0.8663\n",
      "Epoch 4/5\n",
      "136358/136358 [==============================] - 126s 924us/step - loss: 0.2991 - acc: 0.8758\n",
      "Epoch 5/5\n",
      "136358/136358 [==============================] - 126s 923us/step - loss: 0.2851 - acc: 0.8825\n",
      "58440/58440 [==============================] - 13s 220us/step\n",
      "\n",
      "Final Cross-Validation Accuracy 0.9013518138261465 \n",
      "\n",
      "<keras.engine.topology.InputLayer object at 0x14252f6a0>\n",
      "Input Shape:  (None, 75) Output Shape:  (None, 75)\n",
      "<keras.layers.embeddings.Embedding object at 0x14252f7b8>\n",
      "Input Shape:  (None, 75) Output Shape:  (None, 75, 32)\n",
      "<keras.layers.core.Dropout object at 0x14252f748>\n",
      "Input Shape:  (None, 75, 32) Output Shape:  (None, 75, 32)\n",
      "<keras.layers.convolutional.Conv1D object at 0x142525320>\n",
      "Input Shape:  (None, 75, 32) Output Shape:  (None, 75, 256)\n",
      "<keras.layers.advanced_activations.ELU object at 0x14288e518>\n",
      "Input Shape:  (None, 75, 256) Output Shape:  (None, 75, 256)\n",
      "<keras.layers.pooling.MaxPooling1D object at 0x14252f940>\n",
      "Input Shape:  (None, 75, 256) Output Shape:  (None, 18, 256)\n",
      "<keras.layers.core.Dropout object at 0x142519cc0>\n",
      "Input Shape:  (None, 18, 256) Output Shape:  (None, 18, 256)\n",
      "<keras.layers.recurrent.LSTM object at 0x14198da58>\n",
      "Input Shape:  (None, 18, 256) Output Shape:  (None, 32)\n",
      "<keras.layers.core.Dropout object at 0x1424f2a90>\n",
      "Input Shape:  (None, 32) Output Shape:  (None, 32)\n",
      "<keras.layers.core.Dense object at 0x1423a7cf8>\n",
      "Input Shape:  (None, 32) Output Shape:  (None, 1)\n"
     ]
    }
   ],
   "source": [
    "# Fit model and Cross-Validation, Model CONV + LSTM\n",
    "epochs = 5\n",
    "batch_size = 32\n",
    "\n",
    "model = lstm_conv()\n",
    "model.fit(X_train, target_train, epochs=epochs, batch_size=batch_size)\n",
    "loss, accuracy = model.evaluate(X_test, target_test, verbose=1)\n",
    "\n",
    "print('\\nFinal Cross-Validation Accuracy', accuracy, '\\n')\n",
    "print_layers_dims(model)"
   ]
  },
  {
   "cell_type": "code",
   "execution_count": 17,
   "metadata": {
    "collapsed": true
   },
   "outputs": [],
   "source": [
    "model_name = \"deeplearning_1DConvLSTM\"\n",
    "save_model(rel_path + model_name + \".json\", rel_path + model_name + \".h5\")\n",
    "model = load_model(rel_path + model_name + \".json\", rel_path + model_name + \".h5\")"
   ]
  },
  {
   "cell_type": "markdown",
   "metadata": {},
   "source": [
    "### PREDICTIONS"
   ]
  },
  {
   "cell_type": "code",
   "execution_count": 18,
   "metadata": {
    "collapsed": true
   },
   "outputs": [],
   "source": [
    "# get probabilities of target predictions\n",
    "target_proba = model.predict(X_test, batch_size=1)"
   ]
  },
  {
   "cell_type": "code",
   "execution_count": 19,
   "metadata": {},
   "outputs": [
    {
     "data": {
      "text/plain": [
       "array([[0.00548537],\n",
       "       [0.4545563 ],\n",
       "       [0.13824415],\n",
       "       [0.9486797 ],\n",
       "       [0.75061285],\n",
       "       [0.04453439],\n",
       "       [0.8875102 ],\n",
       "       [0.08649283],\n",
       "       [0.99714416],\n",
       "       [0.4230319 ]], dtype=float32)"
      ]
     },
     "execution_count": 19,
     "metadata": {},
     "output_type": "execute_result"
    }
   ],
   "source": [
    "target_proba[0:10]"
   ]
  },
  {
   "cell_type": "code",
   "execution_count": 21,
   "metadata": {},
   "outputs": [],
   "source": [
    "def print_result(proba):\n",
    "    if proba > 0.5:\n",
    "        return \"malicious\"\n",
    "    else:\n",
    "        return \"benign\""
   ]
  },
  {
   "cell_type": "markdown",
   "metadata": {},
   "source": [
    "### TESTING SOME KNOWN RESULTS"
   ]
  },
  {
   "cell_type": "code",
   "execution_count": 27,
   "metadata": {
    "collapsed": true
   },
   "outputs": [],
   "source": [
    "test_urls= [\"naureen.net/etisalat.ae/index2.php\", \"sixt.com/php/reservation?language=en_US\"]"
   ]
  },
  {
   "cell_type": "code",
   "execution_count": 32,
   "metadata": {
    "collapsed": true
   },
   "outputs": [],
   "source": [
    "# preprocess and create features from URL\n",
    "url_int_tokens = [[printable.index(x) + 1 for x in url if x in printable] for url in test_urls]\n",
    "max_len=75\n",
    "X = sequence.pad_sequences(url_int_tokens, maxlen=max_len)"
   ]
  },
  {
   "cell_type": "code",
   "execution_count": 33,
   "metadata": {},
   "outputs": [
    {
     "name": "stdout",
     "output_type": "stream",
     "text": [
      "Test URL: naureen.net/etisalat.ae/index2.php is malicious\n",
      "Test URL: sixt.com/php/reservation?language=en_US is benign\n"
     ]
    }
   ],
   "source": [
    "target_proba = model.predict(X, batch_size=1)\n",
    "\n",
    "for i,x in enumerate(target_proba):\n",
    "    print(\"Test URL:\", test_urls[i], \"is\", print_result(x))"
   ]
  }
 ],
 "metadata": {
  "kernelspec": {
   "display_name": "Python 3",
   "language": "python",
   "name": "python3"
  },
  "language_info": {
   "codemirror_mode": {
    "name": "ipython",
    "version": 3
   },
   "file_extension": ".py",
   "mimetype": "text/x-python",
   "name": "python",
   "nbconvert_exporter": "python",
   "pygments_lexer": "ipython3",
   "version": "3.6.8"
  }
 },
 "nbformat": 4,
 "nbformat_minor": 2
}
